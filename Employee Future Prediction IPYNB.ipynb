{
 "cells": [
  {
   "cell_type": "markdown",
   "metadata": {
    "id": "6IzwsmMUQHef"
   },
   "source": [
    "# Employee Future Prediction"
   ]
  },
  {
   "cell_type": "markdown",
   "metadata": {
    "id": "fI-k44bAQckl"
   },
   "source": [
    "# Dataset"
   ]
  },
  {
   "cell_type": "markdown",
   "metadata": {
    "id": "Bt8YYfT4QhV1"
   },
   "source": [
    "* The dataset which we will work on is called Employee Future Prediction on kaggle : https://www.kaggle.com/datasets/tejashvi14/employee-future-prediction\n",
    "\n",
    "* The dataset has 9 columns (features) including target (label):\n",
    "\n",
    "  1- Education: the education level.\n",
    "  \n",
    "      categorical with values: ['Bachelors', 'Masters', 'PHD']\n",
    "\n",
    "  2- JoiningYear: the year of joining the company.\n",
    "\n",
    "      discrete values\n",
    "\n",
    "  3- City: employee's city\n",
    "\n",
    "      categorical with values : ['Bangalore', 'Pune', 'New Delhi']\n",
    "\n",
    "  4- PaymentTier: the salary tier.\n",
    "\n",
    "      discrete with values : ['1','2','3']. 1 is the highest\n",
    "\n",
    "  5- Age: employee's age.\n",
    "\n",
    "      discrete values\n",
    "\n",
    "  6- Gender: employee's gender.\n",
    "\n",
    "      categorical with values : ['Male','Female']\n",
    "\n",
    "  7- EverBenched: ever kept out of projects for 1 month or more.\n",
    "\n",
    "      categorical with values : ['Yes','No']\n",
    "\n",
    "  8- ExperienceInCurrentDomain: employee's experience\n",
    "\n",
    "      discrete with values : ['0','1','2','3','4','5','6','7']. 7 is the highest\n",
    "\n",
    "  9- LeaveOrNot: whether the employee will leave the company in next 2 years or not. \n",
    "\n",
    "      discrete with values : ['0','1']"
   ]
  },
  {
   "cell_type": "markdown",
   "metadata": {
    "id": "23NTpXfLWcRx"
   },
   "source": [
    "# reading data"
   ]
  },
  {
   "cell_type": "code",
   "execution_count": null,
   "metadata": {
    "id": "vuMIW8iKazrc"
   },
   "outputs": [],
   "source": [
    "import pandas as pd\n",
    "\n",
    "employee = pd.read_csv('Employee.csv')"
   ]
  },
  {
   "cell_type": "code",
   "execution_count": null,
   "metadata": {
    "colab": {
     "base_uri": "https://localhost:8080/",
     "height": 363
    },
    "id": "Q1KRWpoCw_Xu",
    "outputId": "d08c3195-a370-4735-8035-0fca7012f2d1"
   },
   "outputs": [
    {
     "data": {
      "text/html": [
       "\n",
       "  <div id=\"df-e9e0ef4f-b8d0-4651-a6ec-3dc7ff0dbe15\">\n",
       "    <div class=\"colab-df-container\">\n",
       "      <div>\n",
       "<style scoped>\n",
       "    .dataframe tbody tr th:only-of-type {\n",
       "        vertical-align: middle;\n",
       "    }\n",
       "\n",
       "    .dataframe tbody tr th {\n",
       "        vertical-align: top;\n",
       "    }\n",
       "\n",
       "    .dataframe thead th {\n",
       "        text-align: right;\n",
       "    }\n",
       "</style>\n",
       "<table border=\"1\" class=\"dataframe\">\n",
       "  <thead>\n",
       "    <tr style=\"text-align: right;\">\n",
       "      <th></th>\n",
       "      <th>Education</th>\n",
       "      <th>JoiningYear</th>\n",
       "      <th>City</th>\n",
       "      <th>PaymentTier</th>\n",
       "      <th>Age</th>\n",
       "      <th>Gender</th>\n",
       "      <th>EverBenched</th>\n",
       "      <th>ExperienceInCurrentDomain</th>\n",
       "      <th>LeaveOrNot</th>\n",
       "    </tr>\n",
       "  </thead>\n",
       "  <tbody>\n",
       "    <tr>\n",
       "      <th>0</th>\n",
       "      <td>Bachelors</td>\n",
       "      <td>2017</td>\n",
       "      <td>Bangalore</td>\n",
       "      <td>3</td>\n",
       "      <td>34</td>\n",
       "      <td>Male</td>\n",
       "      <td>No</td>\n",
       "      <td>0</td>\n",
       "      <td>0</td>\n",
       "    </tr>\n",
       "    <tr>\n",
       "      <th>1</th>\n",
       "      <td>Bachelors</td>\n",
       "      <td>2013</td>\n",
       "      <td>Pune</td>\n",
       "      <td>1</td>\n",
       "      <td>28</td>\n",
       "      <td>Female</td>\n",
       "      <td>No</td>\n",
       "      <td>3</td>\n",
       "      <td>1</td>\n",
       "    </tr>\n",
       "    <tr>\n",
       "      <th>2</th>\n",
       "      <td>Bachelors</td>\n",
       "      <td>2014</td>\n",
       "      <td>New Delhi</td>\n",
       "      <td>3</td>\n",
       "      <td>38</td>\n",
       "      <td>Female</td>\n",
       "      <td>No</td>\n",
       "      <td>2</td>\n",
       "      <td>0</td>\n",
       "    </tr>\n",
       "    <tr>\n",
       "      <th>3</th>\n",
       "      <td>Masters</td>\n",
       "      <td>2016</td>\n",
       "      <td>Bangalore</td>\n",
       "      <td>3</td>\n",
       "      <td>27</td>\n",
       "      <td>Male</td>\n",
       "      <td>No</td>\n",
       "      <td>5</td>\n",
       "      <td>1</td>\n",
       "    </tr>\n",
       "    <tr>\n",
       "      <th>4</th>\n",
       "      <td>Masters</td>\n",
       "      <td>2017</td>\n",
       "      <td>Pune</td>\n",
       "      <td>3</td>\n",
       "      <td>24</td>\n",
       "      <td>Male</td>\n",
       "      <td>Yes</td>\n",
       "      <td>2</td>\n",
       "      <td>1</td>\n",
       "    </tr>\n",
       "    <tr>\n",
       "      <th>5</th>\n",
       "      <td>Bachelors</td>\n",
       "      <td>2016</td>\n",
       "      <td>Bangalore</td>\n",
       "      <td>3</td>\n",
       "      <td>22</td>\n",
       "      <td>Male</td>\n",
       "      <td>No</td>\n",
       "      <td>0</td>\n",
       "      <td>0</td>\n",
       "    </tr>\n",
       "    <tr>\n",
       "      <th>6</th>\n",
       "      <td>Bachelors</td>\n",
       "      <td>2015</td>\n",
       "      <td>New Delhi</td>\n",
       "      <td>3</td>\n",
       "      <td>38</td>\n",
       "      <td>Male</td>\n",
       "      <td>No</td>\n",
       "      <td>0</td>\n",
       "      <td>0</td>\n",
       "    </tr>\n",
       "    <tr>\n",
       "      <th>7</th>\n",
       "      <td>Bachelors</td>\n",
       "      <td>2016</td>\n",
       "      <td>Bangalore</td>\n",
       "      <td>3</td>\n",
       "      <td>34</td>\n",
       "      <td>Female</td>\n",
       "      <td>No</td>\n",
       "      <td>2</td>\n",
       "      <td>1</td>\n",
       "    </tr>\n",
       "    <tr>\n",
       "      <th>8</th>\n",
       "      <td>Bachelors</td>\n",
       "      <td>2016</td>\n",
       "      <td>Pune</td>\n",
       "      <td>3</td>\n",
       "      <td>23</td>\n",
       "      <td>Male</td>\n",
       "      <td>No</td>\n",
       "      <td>1</td>\n",
       "      <td>0</td>\n",
       "    </tr>\n",
       "    <tr>\n",
       "      <th>9</th>\n",
       "      <td>Masters</td>\n",
       "      <td>2017</td>\n",
       "      <td>New Delhi</td>\n",
       "      <td>2</td>\n",
       "      <td>37</td>\n",
       "      <td>Male</td>\n",
       "      <td>No</td>\n",
       "      <td>2</td>\n",
       "      <td>0</td>\n",
       "    </tr>\n",
       "  </tbody>\n",
       "</table>\n",
       "</div>\n",
       "      <button class=\"colab-df-convert\" onclick=\"convertToInteractive('df-e9e0ef4f-b8d0-4651-a6ec-3dc7ff0dbe15')\"\n",
       "              title=\"Convert this dataframe to an interactive table.\"\n",
       "              style=\"display:none;\">\n",
       "        \n",
       "  <svg xmlns=\"http://www.w3.org/2000/svg\" height=\"24px\"viewBox=\"0 0 24 24\"\n",
       "       width=\"24px\">\n",
       "    <path d=\"M0 0h24v24H0V0z\" fill=\"none\"/>\n",
       "    <path d=\"M18.56 5.44l.94 2.06.94-2.06 2.06-.94-2.06-.94-.94-2.06-.94 2.06-2.06.94zm-11 1L8.5 8.5l.94-2.06 2.06-.94-2.06-.94L8.5 2.5l-.94 2.06-2.06.94zm10 10l.94 2.06.94-2.06 2.06-.94-2.06-.94-.94-2.06-.94 2.06-2.06.94z\"/><path d=\"M17.41 7.96l-1.37-1.37c-.4-.4-.92-.59-1.43-.59-.52 0-1.04.2-1.43.59L10.3 9.45l-7.72 7.72c-.78.78-.78 2.05 0 2.83L4 21.41c.39.39.9.59 1.41.59.51 0 1.02-.2 1.41-.59l7.78-7.78 2.81-2.81c.8-.78.8-2.07 0-2.86zM5.41 20L4 18.59l7.72-7.72 1.47 1.35L5.41 20z\"/>\n",
       "  </svg>\n",
       "      </button>\n",
       "      \n",
       "  <style>\n",
       "    .colab-df-container {\n",
       "      display:flex;\n",
       "      flex-wrap:wrap;\n",
       "      gap: 12px;\n",
       "    }\n",
       "\n",
       "    .colab-df-convert {\n",
       "      background-color: #E8F0FE;\n",
       "      border: none;\n",
       "      border-radius: 50%;\n",
       "      cursor: pointer;\n",
       "      display: none;\n",
       "      fill: #1967D2;\n",
       "      height: 32px;\n",
       "      padding: 0 0 0 0;\n",
       "      width: 32px;\n",
       "    }\n",
       "\n",
       "    .colab-df-convert:hover {\n",
       "      background-color: #E2EBFA;\n",
       "      box-shadow: 0px 1px 2px rgba(60, 64, 67, 0.3), 0px 1px 3px 1px rgba(60, 64, 67, 0.15);\n",
       "      fill: #174EA6;\n",
       "    }\n",
       "\n",
       "    [theme=dark] .colab-df-convert {\n",
       "      background-color: #3B4455;\n",
       "      fill: #D2E3FC;\n",
       "    }\n",
       "\n",
       "    [theme=dark] .colab-df-convert:hover {\n",
       "      background-color: #434B5C;\n",
       "      box-shadow: 0px 1px 3px 1px rgba(0, 0, 0, 0.15);\n",
       "      filter: drop-shadow(0px 1px 2px rgba(0, 0, 0, 0.3));\n",
       "      fill: #FFFFFF;\n",
       "    }\n",
       "  </style>\n",
       "\n",
       "      <script>\n",
       "        const buttonEl =\n",
       "          document.querySelector('#df-e9e0ef4f-b8d0-4651-a6ec-3dc7ff0dbe15 button.colab-df-convert');\n",
       "        buttonEl.style.display =\n",
       "          google.colab.kernel.accessAllowed ? 'block' : 'none';\n",
       "\n",
       "        async function convertToInteractive(key) {\n",
       "          const element = document.querySelector('#df-e9e0ef4f-b8d0-4651-a6ec-3dc7ff0dbe15');\n",
       "          const dataTable =\n",
       "            await google.colab.kernel.invokeFunction('convertToInteractive',\n",
       "                                                     [key], {});\n",
       "          if (!dataTable) return;\n",
       "\n",
       "          const docLinkHtml = 'Like what you see? Visit the ' +\n",
       "            '<a target=\"_blank\" href=https://colab.research.google.com/notebooks/data_table.ipynb>data table notebook</a>'\n",
       "            + ' to learn more about interactive tables.';\n",
       "          element.innerHTML = '';\n",
       "          dataTable['output_type'] = 'display_data';\n",
       "          await google.colab.output.renderOutput(dataTable, element);\n",
       "          const docLink = document.createElement('div');\n",
       "          docLink.innerHTML = docLinkHtml;\n",
       "          element.appendChild(docLink);\n",
       "        }\n",
       "      </script>\n",
       "    </div>\n",
       "  </div>\n",
       "  "
      ],
      "text/plain": [
       "   Education  JoiningYear       City  PaymentTier  Age  Gender EverBenched  \\\n",
       "0  Bachelors         2017  Bangalore            3   34    Male          No   \n",
       "1  Bachelors         2013       Pune            1   28  Female          No   \n",
       "2  Bachelors         2014  New Delhi            3   38  Female          No   \n",
       "3    Masters         2016  Bangalore            3   27    Male          No   \n",
       "4    Masters         2017       Pune            3   24    Male         Yes   \n",
       "5  Bachelors         2016  Bangalore            3   22    Male          No   \n",
       "6  Bachelors         2015  New Delhi            3   38    Male          No   \n",
       "7  Bachelors         2016  Bangalore            3   34  Female          No   \n",
       "8  Bachelors         2016       Pune            3   23    Male          No   \n",
       "9    Masters         2017  New Delhi            2   37    Male          No   \n",
       "\n",
       "   ExperienceInCurrentDomain  LeaveOrNot  \n",
       "0                          0           0  \n",
       "1                          3           1  \n",
       "2                          2           0  \n",
       "3                          5           1  \n",
       "4                          2           1  \n",
       "5                          0           0  \n",
       "6                          0           0  \n",
       "7                          2           1  \n",
       "8                          1           0  \n",
       "9                          2           0  "
      ]
     },
     "execution_count": 2,
     "metadata": {},
     "output_type": "execute_result"
    }
   ],
   "source": [
    "employee.head(10)"
   ]
  },
  {
   "cell_type": "markdown",
   "metadata": {
    "id": "qUIhT1IMVl7n"
   },
   "source": [
    "# [1] Data Preprocessing"
   ]
  },
  {
   "cell_type": "markdown",
   "metadata": {
    "id": "Et8z9WS-Taou"
   },
   "source": [
    "## [1.1] Feature Representation"
   ]
  },
  {
   "cell_type": "markdown",
   "metadata": {
    "id": "U8mxB0E6WguA"
   },
   "source": [
    "### [1.1.1] check if the data contains missing values"
   ]
  },
  {
   "cell_type": "code",
   "execution_count": null,
   "metadata": {
    "colab": {
     "base_uri": "https://localhost:8080/"
    },
    "id": "pm-qKojtxzRd",
    "outputId": "8b22c0a2-582b-42ac-c887-4b5b9071b3d0"
   },
   "outputs": [
    {
     "data": {
      "text/plain": [
       "Education                    0\n",
       "JoiningYear                  0\n",
       "City                         0\n",
       "PaymentTier                  0\n",
       "Age                          0\n",
       "Gender                       0\n",
       "EverBenched                  0\n",
       "ExperienceInCurrentDomain    0\n",
       "LeaveOrNot                   0\n",
       "dtype: int64"
      ]
     },
     "execution_count": 65,
     "metadata": {},
     "output_type": "execute_result"
    }
   ],
   "source": [
    "employee.isnull().sum()"
   ]
  },
  {
   "cell_type": "markdown",
   "metadata": {
    "id": "2vas907dXTPw"
   },
   "source": [
    "the data does not contain missing values"
   ]
  },
  {
   "cell_type": "markdown",
   "metadata": {
    "id": "P4fFcCv6XaQW"
   },
   "source": [
    "### [1.1.2] preprocessing categorical data"
   ]
  },
  {
   "cell_type": "markdown",
   "metadata": {
    "id": "ZKo2X5gJXtKC"
   },
   "source": [
    "* Education column encoding: 0 = Bachelors, 1 = Masters, 2 = PHD\n",
    ". This encoding implies that : Bachelors < Masters < PHD which is meaningful."
   ]
  },
  {
   "cell_type": "code",
   "execution_count": null,
   "metadata": {
    "id": "qPAtePbLZxS_"
   },
   "outputs": [],
   "source": [
    "def edu_mapping(x):\n",
    "  if x =='Bachelors':\n",
    "    return 0\n",
    "  if x == 'Masters':\n",
    "    return 1\n",
    "  if x == 'PHD':\n",
    "    return 2\n",
    "  return -1"
   ]
  },
  {
   "cell_type": "code",
   "execution_count": null,
   "metadata": {
    "id": "jDf8-JPUXkcX"
   },
   "outputs": [],
   "source": [
    "employee['Education'] = employee['Education'].apply(lambda x: edu_mapping(x))"
   ]
  },
  {
   "cell_type": "markdown",
   "metadata": {
    "id": "tdvcYG5laWhK"
   },
   "source": [
    "* The above method does not work with City column, so we will use one hot encoding instead."
   ]
  },
  {
   "cell_type": "code",
   "execution_count": null,
   "metadata": {
    "id": "983iX8VLbMsR"
   },
   "outputs": [],
   "source": [
    "ohe = pd.get_dummies(employee['City'])\n",
    "Left = employee.iloc[:, :2].join(ohe)\n",
    "Right = employee.iloc[:,-6:]\n",
    "employee = Left.join(Right)"
   ]
  },
  {
   "cell_type": "markdown",
   "metadata": {
    "id": "uoyDhflyNZfX"
   },
   "source": [
    "* in PaymentTier column we need to swap between 3's and 1's."
   ]
  },
  {
   "cell_type": "code",
   "execution_count": null,
   "metadata": {
    "id": "63xY95nIPEmK"
   },
   "outputs": [],
   "source": [
    "def pay_mapping(x):\n",
    "  if x == 3:\n",
    "    return 1\n",
    "  if x == 1:\n",
    "    return 3\n",
    "  return 2"
   ]
  },
  {
   "cell_type": "code",
   "execution_count": null,
   "metadata": {
    "id": "OTQhBuOrN6jZ"
   },
   "outputs": [],
   "source": [
    "employee['PaymentTier'] = employee['PaymentTier'].apply(lambda x: pay_mapping(x))"
   ]
  },
  {
   "cell_type": "markdown",
   "metadata": {
    "id": "Xv_4btEFPq7Z"
   },
   "source": [
    "* Gender column encoding: 0 for Female, 1 for Male."
   ]
  },
  {
   "cell_type": "code",
   "execution_count": null,
   "metadata": {
    "id": "TH6UjSnQP8rx"
   },
   "outputs": [],
   "source": [
    "employee['Gender'] = employee['Gender'].apply(lambda x: 1 if x==\"Male\" else 0)"
   ]
  },
  {
   "cell_type": "markdown",
   "metadata": {
    "id": "yCJTfsMOQTGJ"
   },
   "source": [
    "* EverBenched column encoding: 0 for No, 1 for Yes."
   ]
  },
  {
   "cell_type": "code",
   "execution_count": null,
   "metadata": {
    "id": "AV74F7UNQSrq"
   },
   "outputs": [],
   "source": [
    "employee['EverBenched'] = employee['EverBenched'].apply(lambda x: 1 if x==\"Yes\" else 0)"
   ]
  },
  {
   "cell_type": "markdown",
   "metadata": {
    "id": "_LUAZp_ARQ7B"
   },
   "source": [
    "* Final dataset after handling categorical columns"
   ]
  },
  {
   "cell_type": "code",
   "execution_count": null,
   "metadata": {
    "colab": {
     "base_uri": "https://localhost:8080/",
     "height": 363
    },
    "id": "h3Nly81EQNTS",
    "outputId": "b408690c-ffb7-4073-ca98-7438eb5706d3"
   },
   "outputs": [
    {
     "data": {
      "text/html": [
       "\n",
       "  <div id=\"df-26729f6c-dde5-4d21-afb6-b1d420a9698e\">\n",
       "    <div class=\"colab-df-container\">\n",
       "      <div>\n",
       "<style scoped>\n",
       "    .dataframe tbody tr th:only-of-type {\n",
       "        vertical-align: middle;\n",
       "    }\n",
       "\n",
       "    .dataframe tbody tr th {\n",
       "        vertical-align: top;\n",
       "    }\n",
       "\n",
       "    .dataframe thead th {\n",
       "        text-align: right;\n",
       "    }\n",
       "</style>\n",
       "<table border=\"1\" class=\"dataframe\">\n",
       "  <thead>\n",
       "    <tr style=\"text-align: right;\">\n",
       "      <th></th>\n",
       "      <th>Education</th>\n",
       "      <th>JoiningYear</th>\n",
       "      <th>Bangalore</th>\n",
       "      <th>New Delhi</th>\n",
       "      <th>Pune</th>\n",
       "      <th>PaymentTier</th>\n",
       "      <th>Age</th>\n",
       "      <th>Gender</th>\n",
       "      <th>EverBenched</th>\n",
       "      <th>ExperienceInCurrentDomain</th>\n",
       "      <th>LeaveOrNot</th>\n",
       "    </tr>\n",
       "  </thead>\n",
       "  <tbody>\n",
       "    <tr>\n",
       "      <th>0</th>\n",
       "      <td>0</td>\n",
       "      <td>2017</td>\n",
       "      <td>1</td>\n",
       "      <td>0</td>\n",
       "      <td>0</td>\n",
       "      <td>1</td>\n",
       "      <td>34</td>\n",
       "      <td>1</td>\n",
       "      <td>0</td>\n",
       "      <td>0</td>\n",
       "      <td>0</td>\n",
       "    </tr>\n",
       "    <tr>\n",
       "      <th>1</th>\n",
       "      <td>0</td>\n",
       "      <td>2013</td>\n",
       "      <td>0</td>\n",
       "      <td>0</td>\n",
       "      <td>1</td>\n",
       "      <td>3</td>\n",
       "      <td>28</td>\n",
       "      <td>0</td>\n",
       "      <td>0</td>\n",
       "      <td>3</td>\n",
       "      <td>1</td>\n",
       "    </tr>\n",
       "    <tr>\n",
       "      <th>2</th>\n",
       "      <td>0</td>\n",
       "      <td>2014</td>\n",
       "      <td>0</td>\n",
       "      <td>1</td>\n",
       "      <td>0</td>\n",
       "      <td>1</td>\n",
       "      <td>38</td>\n",
       "      <td>0</td>\n",
       "      <td>0</td>\n",
       "      <td>2</td>\n",
       "      <td>0</td>\n",
       "    </tr>\n",
       "    <tr>\n",
       "      <th>3</th>\n",
       "      <td>1</td>\n",
       "      <td>2016</td>\n",
       "      <td>1</td>\n",
       "      <td>0</td>\n",
       "      <td>0</td>\n",
       "      <td>1</td>\n",
       "      <td>27</td>\n",
       "      <td>1</td>\n",
       "      <td>0</td>\n",
       "      <td>5</td>\n",
       "      <td>1</td>\n",
       "    </tr>\n",
       "    <tr>\n",
       "      <th>4</th>\n",
       "      <td>1</td>\n",
       "      <td>2017</td>\n",
       "      <td>0</td>\n",
       "      <td>0</td>\n",
       "      <td>1</td>\n",
       "      <td>1</td>\n",
       "      <td>24</td>\n",
       "      <td>1</td>\n",
       "      <td>1</td>\n",
       "      <td>2</td>\n",
       "      <td>1</td>\n",
       "    </tr>\n",
       "    <tr>\n",
       "      <th>5</th>\n",
       "      <td>0</td>\n",
       "      <td>2016</td>\n",
       "      <td>1</td>\n",
       "      <td>0</td>\n",
       "      <td>0</td>\n",
       "      <td>1</td>\n",
       "      <td>22</td>\n",
       "      <td>1</td>\n",
       "      <td>0</td>\n",
       "      <td>0</td>\n",
       "      <td>0</td>\n",
       "    </tr>\n",
       "    <tr>\n",
       "      <th>6</th>\n",
       "      <td>0</td>\n",
       "      <td>2015</td>\n",
       "      <td>0</td>\n",
       "      <td>1</td>\n",
       "      <td>0</td>\n",
       "      <td>1</td>\n",
       "      <td>38</td>\n",
       "      <td>1</td>\n",
       "      <td>0</td>\n",
       "      <td>0</td>\n",
       "      <td>0</td>\n",
       "    </tr>\n",
       "    <tr>\n",
       "      <th>7</th>\n",
       "      <td>0</td>\n",
       "      <td>2016</td>\n",
       "      <td>1</td>\n",
       "      <td>0</td>\n",
       "      <td>0</td>\n",
       "      <td>1</td>\n",
       "      <td>34</td>\n",
       "      <td>0</td>\n",
       "      <td>0</td>\n",
       "      <td>2</td>\n",
       "      <td>1</td>\n",
       "    </tr>\n",
       "    <tr>\n",
       "      <th>8</th>\n",
       "      <td>0</td>\n",
       "      <td>2016</td>\n",
       "      <td>0</td>\n",
       "      <td>0</td>\n",
       "      <td>1</td>\n",
       "      <td>1</td>\n",
       "      <td>23</td>\n",
       "      <td>1</td>\n",
       "      <td>0</td>\n",
       "      <td>1</td>\n",
       "      <td>0</td>\n",
       "    </tr>\n",
       "    <tr>\n",
       "      <th>9</th>\n",
       "      <td>1</td>\n",
       "      <td>2017</td>\n",
       "      <td>0</td>\n",
       "      <td>1</td>\n",
       "      <td>0</td>\n",
       "      <td>2</td>\n",
       "      <td>37</td>\n",
       "      <td>1</td>\n",
       "      <td>0</td>\n",
       "      <td>2</td>\n",
       "      <td>0</td>\n",
       "    </tr>\n",
       "  </tbody>\n",
       "</table>\n",
       "</div>\n",
       "      <button class=\"colab-df-convert\" onclick=\"convertToInteractive('df-26729f6c-dde5-4d21-afb6-b1d420a9698e')\"\n",
       "              title=\"Convert this dataframe to an interactive table.\"\n",
       "              style=\"display:none;\">\n",
       "        \n",
       "  <svg xmlns=\"http://www.w3.org/2000/svg\" height=\"24px\"viewBox=\"0 0 24 24\"\n",
       "       width=\"24px\">\n",
       "    <path d=\"M0 0h24v24H0V0z\" fill=\"none\"/>\n",
       "    <path d=\"M18.56 5.44l.94 2.06.94-2.06 2.06-.94-2.06-.94-.94-2.06-.94 2.06-2.06.94zm-11 1L8.5 8.5l.94-2.06 2.06-.94-2.06-.94L8.5 2.5l-.94 2.06-2.06.94zm10 10l.94 2.06.94-2.06 2.06-.94-2.06-.94-.94-2.06-.94 2.06-2.06.94z\"/><path d=\"M17.41 7.96l-1.37-1.37c-.4-.4-.92-.59-1.43-.59-.52 0-1.04.2-1.43.59L10.3 9.45l-7.72 7.72c-.78.78-.78 2.05 0 2.83L4 21.41c.39.39.9.59 1.41.59.51 0 1.02-.2 1.41-.59l7.78-7.78 2.81-2.81c.8-.78.8-2.07 0-2.86zM5.41 20L4 18.59l7.72-7.72 1.47 1.35L5.41 20z\"/>\n",
       "  </svg>\n",
       "      </button>\n",
       "      \n",
       "  <style>\n",
       "    .colab-df-container {\n",
       "      display:flex;\n",
       "      flex-wrap:wrap;\n",
       "      gap: 12px;\n",
       "    }\n",
       "\n",
       "    .colab-df-convert {\n",
       "      background-color: #E8F0FE;\n",
       "      border: none;\n",
       "      border-radius: 50%;\n",
       "      cursor: pointer;\n",
       "      display: none;\n",
       "      fill: #1967D2;\n",
       "      height: 32px;\n",
       "      padding: 0 0 0 0;\n",
       "      width: 32px;\n",
       "    }\n",
       "\n",
       "    .colab-df-convert:hover {\n",
       "      background-color: #E2EBFA;\n",
       "      box-shadow: 0px 1px 2px rgba(60, 64, 67, 0.3), 0px 1px 3px 1px rgba(60, 64, 67, 0.15);\n",
       "      fill: #174EA6;\n",
       "    }\n",
       "\n",
       "    [theme=dark] .colab-df-convert {\n",
       "      background-color: #3B4455;\n",
       "      fill: #D2E3FC;\n",
       "    }\n",
       "\n",
       "    [theme=dark] .colab-df-convert:hover {\n",
       "      background-color: #434B5C;\n",
       "      box-shadow: 0px 1px 3px 1px rgba(0, 0, 0, 0.15);\n",
       "      filter: drop-shadow(0px 1px 2px rgba(0, 0, 0, 0.3));\n",
       "      fill: #FFFFFF;\n",
       "    }\n",
       "  </style>\n",
       "\n",
       "      <script>\n",
       "        const buttonEl =\n",
       "          document.querySelector('#df-26729f6c-dde5-4d21-afb6-b1d420a9698e button.colab-df-convert');\n",
       "        buttonEl.style.display =\n",
       "          google.colab.kernel.accessAllowed ? 'block' : 'none';\n",
       "\n",
       "        async function convertToInteractive(key) {\n",
       "          const element = document.querySelector('#df-26729f6c-dde5-4d21-afb6-b1d420a9698e');\n",
       "          const dataTable =\n",
       "            await google.colab.kernel.invokeFunction('convertToInteractive',\n",
       "                                                     [key], {});\n",
       "          if (!dataTable) return;\n",
       "\n",
       "          const docLinkHtml = 'Like what you see? Visit the ' +\n",
       "            '<a target=\"_blank\" href=https://colab.research.google.com/notebooks/data_table.ipynb>data table notebook</a>'\n",
       "            + ' to learn more about interactive tables.';\n",
       "          element.innerHTML = '';\n",
       "          dataTable['output_type'] = 'display_data';\n",
       "          await google.colab.output.renderOutput(dataTable, element);\n",
       "          const docLink = document.createElement('div');\n",
       "          docLink.innerHTML = docLinkHtml;\n",
       "          element.appendChild(docLink);\n",
       "        }\n",
       "      </script>\n",
       "    </div>\n",
       "  </div>\n",
       "  "
      ],
      "text/plain": [
       "   Education  JoiningYear  Bangalore  New Delhi  Pune  PaymentTier  Age  \\\n",
       "0          0         2017          1          0     0            1   34   \n",
       "1          0         2013          0          0     1            3   28   \n",
       "2          0         2014          0          1     0            1   38   \n",
       "3          1         2016          1          0     0            1   27   \n",
       "4          1         2017          0          0     1            1   24   \n",
       "5          0         2016          1          0     0            1   22   \n",
       "6          0         2015          0          1     0            1   38   \n",
       "7          0         2016          1          0     0            1   34   \n",
       "8          0         2016          0          0     1            1   23   \n",
       "9          1         2017          0          1     0            2   37   \n",
       "\n",
       "   Gender  EverBenched  ExperienceInCurrentDomain  LeaveOrNot  \n",
       "0       1            0                          0           0  \n",
       "1       0            0                          3           1  \n",
       "2       0            0                          2           0  \n",
       "3       1            0                          5           1  \n",
       "4       1            1                          2           1  \n",
       "5       1            0                          0           0  \n",
       "6       1            0                          0           0  \n",
       "7       0            0                          2           1  \n",
       "8       1            0                          1           0  \n",
       "9       1            0                          2           0  "
      ]
     },
     "execution_count": 10,
     "metadata": {},
     "output_type": "execute_result"
    }
   ],
   "source": [
    "employee.head(10)"
   ]
  },
  {
   "cell_type": "markdown",
   "metadata": {
    "id": "YZDMCUcpU3Di"
   },
   "source": [
    "## [1.2] Data Splitting : train - test"
   ]
  },
  {
   "cell_type": "code",
   "execution_count": null,
   "metadata": {
    "id": "_38I1sW4U_Pz"
   },
   "outputs": [],
   "source": [
    "from sklearn.model_selection import train_test_split\n",
    "\n",
    "X = employee.iloc[:, :10].values\n",
    "\n",
    "Y = employee.loc[:,'LeaveOrNot'].values\n",
    "\n",
    "X_train, X_test, y_train, y_test = train_test_split(X, Y, test_size=0.20, random_state=0)"
   ]
  },
  {
   "cell_type": "code",
   "execution_count": null,
   "metadata": {
    "colab": {
     "base_uri": "https://localhost:8080/"
    },
    "id": "VS8xHYxeW5fj",
    "outputId": "c12e1578-5adf-4ef8-d385-50190715481c"
   },
   "outputs": [
    {
     "name": "stdout",
     "output_type": "stream",
     "text": [
      "X_train.shape: (3722, 10)  y_train.shape: (3722,)\n"
     ]
    }
   ],
   "source": [
    "print(\"X_train.shape: {}  y_train.shape: {}\".format(X_train.shape, y_train.shape))"
   ]
  },
  {
   "cell_type": "code",
   "execution_count": null,
   "metadata": {
    "colab": {
     "base_uri": "https://localhost:8080/"
    },
    "id": "T29lGwZlZXhN",
    "outputId": "bd6ee487-89f3-4559-c1db-859920024fe2"
   },
   "outputs": [
    {
     "name": "stdout",
     "output_type": "stream",
     "text": [
      "X_test.shape: (931, 10)  y_test.shape: (931,)\n"
     ]
    }
   ],
   "source": [
    "print(\"X_test.shape: {}  y_test.shape: {}\".format(X_test.shape, y_test.shape))"
   ]
  },
  {
   "cell_type": "markdown",
   "metadata": {
    "id": "_QVgkqfXRfwa"
   },
   "source": [
    "## [1.3] Feature Engineering"
   ]
  },
  {
   "cell_type": "markdown",
   "metadata": {
    "id": "GoQl9kMYovvO"
   },
   "source": [
    "### [1.3.1] Using Feature Engineering Techniques"
   ]
  },
  {
   "cell_type": "markdown",
   "metadata": {
    "id": "ve7T8-w18c7x"
   },
   "source": [
    "* Recursive feature elimination"
   ]
  },
  {
   "cell_type": "code",
   "execution_count": null,
   "metadata": {
    "colab": {
     "base_uri": "https://localhost:8080/"
    },
    "id": "Ii7LNNXiUK0K",
    "outputId": "e5a1cba6-a573-4ed5-d1ed-1aca8eb1e029"
   },
   "outputs": [
    {
     "name": "stdout",
     "output_type": "stream",
     "text": [
      "[ True  True False False  True  True  True False False False]\n"
     ]
    }
   ],
   "source": [
    "from sklearn.feature_selection import RFE\n",
    "from sklearn.ensemble import RandomForestClassifier\n",
    "\n",
    "select = RFE(RandomForestClassifier(n_estimators=100, random_state=0),n_features_to_select=5)\n",
    "\n",
    "select.fit(X_train, y_train)\n",
    "print(select.get_support())"
   ]
  },
  {
   "cell_type": "markdown",
   "metadata": {
    "id": "vc9NZ5Uu8f8B"
   },
   "source": [
    "* Model-based Feature Selection"
   ]
  },
  {
   "cell_type": "code",
   "execution_count": null,
   "metadata": {
    "colab": {
     "base_uri": "https://localhost:8080/"
    },
    "id": "p1O2Q0xV8lbY",
    "outputId": "f70c0d7e-86a4-4e70-f57a-24ee29c347fd"
   },
   "outputs": [
    {
     "name": "stdout",
     "output_type": "stream",
     "text": [
      "[ True  True False False False  True  True  True False False]\n"
     ]
    }
   ],
   "source": [
    "from sklearn.feature_selection import SelectFromModel\n",
    "from sklearn.ensemble import RandomForestClassifier\n",
    "\n",
    "select = SelectFromModel(RandomForestClassifier(n_estimators=100, random_state=0),threshold=\"median\")\n",
    "\n",
    "select.fit(X_train, y_train)\n",
    "print(select.get_support())"
   ]
  },
  {
   "cell_type": "markdown",
   "metadata": {
    "id": "MxgZzkm3-anB"
   },
   "source": [
    "`` The above methods show that features with numbers 1,2,6,7 are crucial. There is a conflict on the last selected feature so we will try to use some help from another method. ``"
   ]
  },
  {
   "cell_type": "markdown",
   "metadata": {
    "id": "ucuOSKbc9qg4"
   },
   "source": [
    "* Univariate feature selection: precentile"
   ]
  },
  {
   "cell_type": "code",
   "execution_count": null,
   "metadata": {
    "colab": {
     "base_uri": "https://localhost:8080/"
    },
    "id": "whlNRrcc90q3",
    "outputId": "5579a627-e4c6-4963-cb8f-9e3297831b67"
   },
   "outputs": [
    {
     "name": "stdout",
     "output_type": "stream",
     "text": [
      "[False False False False False False False  True False False]\n"
     ]
    }
   ],
   "source": [
    "from sklearn.feature_selection import SelectPercentile\n",
    "\n",
    "select = SelectPercentile(percentile=10)\n",
    "\n",
    "select.fit(X_train, y_train)\n",
    "print(select.get_support())"
   ]
  },
  {
   "cell_type": "markdown",
   "metadata": {
    "id": "vypqOsn5_YBK"
   },
   "source": [
    "* dropping the less important features. "
   ]
  },
  {
   "cell_type": "code",
   "execution_count": null,
   "metadata": {
    "id": "qG0Yqfq-_jbk"
   },
   "outputs": [],
   "source": [
    "import numpy as np\n",
    "\n",
    "def Feature_Engineering_Data(xtrain,xtest):\n",
    "  X_train_5 = np.delete(xtrain, [2,3,4,8,9], 1)\n",
    "  X_test_5 = np.delete(xtest, [2,3,4,8,9], 1)\n",
    "  return X_train_5,X_test_5"
   ]
  },
  {
   "cell_type": "markdown",
   "metadata": {
    "id": "9yAtLZvKo5iN"
   },
   "source": [
    "### [1.3.2] Using PCA"
   ]
  },
  {
   "cell_type": "code",
   "execution_count": null,
   "metadata": {
    "id": "eFZfcwqeo-n_"
   },
   "outputs": [],
   "source": [
    "from sklearn.decomposition import PCA\n",
    "\n",
    "def PCA_Data(xtrain,xtest):\n",
    "  model = PCA(n_components=5)\n",
    "  model.fit(xtrain)\n",
    "  train = model.transform(xtrain)\n",
    "  test = model.transform(xtest)\n",
    "  return train,test"
   ]
  },
  {
   "cell_type": "markdown",
   "metadata": {
    "id": "ffzuN334NUj6"
   },
   "source": [
    "## [1.4] general preprocessing "
   ]
  },
  {
   "cell_type": "markdown",
   "metadata": {
    "id": "KHnUzJTbFT5z"
   },
   "source": [
    "* Normalization"
   ]
  },
  {
   "cell_type": "code",
   "execution_count": null,
   "metadata": {
    "id": "1B3CVoylFTjR"
   },
   "outputs": [],
   "source": [
    "from sklearn.preprocessing import MinMaxScaler\n",
    "\n",
    "def Normalize(xtrain,xtest):\n",
    "  scaler = MinMaxScaler()\n",
    "  scaler.fit(xtrain)\n",
    "  N_x_train = scaler.transform(xtrain)\n",
    "  N_x_test = scaler.transform(xtest)\n",
    "  return N_x_train,N_x_test"
   ]
  },
  {
   "cell_type": "markdown",
   "metadata": {
    "id": "QHGCGpbXh6q7"
   },
   "source": [
    "# [2] Results Storing"
   ]
  },
  {
   "cell_type": "code",
   "execution_count": null,
   "metadata": {
    "id": "BjgmWNPwiE2j"
   },
   "outputs": [],
   "source": [
    "results = {}\n",
    "results['Model'] = []\n",
    "results['Data'] = []\n",
    "results['Normalized'] = []\n",
    "results['accuracy'] = []\n",
    "#results['Other informations'] = []\n",
    "\n",
    "def update_results(ModelName,accuracy,data=\"Original data\",normalized=False,other=\"None\"):\n",
    "  results['Model'].append(ModelName)\n",
    "  results['Data'].append(data)\n",
    "  results['Normalized'].append(normalized)\n",
    "  results['accuracy'].append(accuracy)\n",
    "  #results['Other informations'].append(other)"
   ]
  },
  {
   "cell_type": "markdown",
   "metadata": {
    "id": "E-u1DegNTro7"
   },
   "source": [
    "# [3] Building Different Classification Models"
   ]
  },
  {
   "cell_type": "markdown",
   "metadata": {
    "id": "dolkDSU0QWSY"
   },
   "source": [
    "* Baseline Model"
   ]
  },
  {
   "cell_type": "code",
   "execution_count": null,
   "metadata": {
    "colab": {
     "base_uri": "https://localhost:8080/"
    },
    "id": "Tzr9SCuMQVlL",
    "outputId": "eb4deb4e-3379-4c34-ff76-88b4f8f5dd14"
   },
   "outputs": [
    {
     "data": {
      "text/plain": [
       "0.664876476906552"
      ]
     },
     "execution_count": 84,
     "metadata": {},
     "output_type": "execute_result"
    }
   ],
   "source": [
    "from sklearn.dummy import DummyClassifier\n",
    "\n",
    "dummy = DummyClassifier(strategy = 'most_frequent').fit(X_train, y_train)\n",
    "y_dummy_predictions = dummy.predict(X_test)\n",
    "\n",
    "sc = dummy.score(X_test, y_test)\n",
    "update_results('dummy classifier - Baseline model',sc)\n",
    "sc"
   ]
  },
  {
   "cell_type": "markdown",
   "metadata": {
    "id": "PHJFS1lgRFSU"
   },
   "source": [
    "* Logistic Regression"
   ]
  },
  {
   "cell_type": "code",
   "execution_count": null,
   "metadata": {
    "colab": {
     "base_uri": "https://localhost:8080/"
    },
    "id": "5HM-iIGLQtZK",
    "outputId": "1e250132-3604-4650-b4c1-86b3252645a6"
   },
   "outputs": [
    {
     "data": {
      "text/plain": [
       "0.7110633727175081"
      ]
     },
     "execution_count": 85,
     "metadata": {},
     "output_type": "execute_result"
    }
   ],
   "source": [
    "from sklearn.linear_model import LogisticRegression\n",
    "\n",
    "log_regression = LogisticRegression()\n",
    "log_regression.fit(X_train, y_train)\n",
    "sc = log_regression.score(X_test,y_test)\n",
    "update_results('LogisticRegression',sc)\n",
    "sc"
   ]
  },
  {
   "cell_type": "markdown",
   "metadata": {
    "id": "Ry6T9jgWUJx-"
   },
   "source": [
    "* Naive Bayes"
   ]
  },
  {
   "cell_type": "code",
   "execution_count": null,
   "metadata": {
    "colab": {
     "base_uri": "https://localhost:8080/"
    },
    "id": "3lu9y2_iRt4o",
    "outputId": "1c44c729-686c-4325-b626-943555c868ed"
   },
   "outputs": [
    {
     "data": {
      "text/plain": [
       "0.6895810955961332"
      ]
     },
     "execution_count": 86,
     "metadata": {},
     "output_type": "execute_result"
    }
   ],
   "source": [
    "from sklearn.naive_bayes import GaussianNB\n",
    "\n",
    "naive_bayes = GaussianNB()\n",
    "naive_bayes.fit(X_train, y_train)\n",
    "sc = naive_bayes.score(X_test,y_test)\n",
    "update_results('Naive Bayes',sc)\n",
    "sc"
   ]
  },
  {
   "cell_type": "markdown",
   "metadata": {
    "id": "2NIeLrAYQgdS"
   },
   "source": [
    "* KNN"
   ]
  },
  {
   "cell_type": "code",
   "execution_count": null,
   "metadata": {
    "colab": {
     "base_uri": "https://localhost:8080/",
     "height": 301
    },
    "id": "_o6JIgPv-c66",
    "outputId": "8c763595-ee3a-4a2b-db0f-9c596ea03fec"
   },
   "outputs": [
    {
     "data": {
      "text/plain": [
       "Text(0, 0.5, 'score')"
      ]
     },
     "execution_count": 87,
     "metadata": {},
     "output_type": "execute_result"
    },
    {
     "data": {
      "image/png": "[encoded data removed]",
      "text/plain": [
       "<Figure size 432x288 with 1 Axes>"
      ]
     },
     "metadata": {
      "needs_background": "light"
     },
     "output_type": "display_data"
    }
   ],
   "source": [
    "from sklearn.neighbors import KNeighborsClassifier\n",
    "from sklearn.model_selection import validation_curve\n",
    "import matplotlib.pyplot as plt\n",
    "\n",
    "knn = KNeighborsClassifier()\n",
    "\n",
    "n_n = np.arange(25)\n",
    "train_score, val_score = validation_curve(knn, X_train, y_train,\n",
    "                                            param_name= 'n_neighbors',\n",
    "                                            param_range =n_n,\n",
    "                                            cv=5)\n",
    "\n",
    "plt.plot(n_n, np.median(train_score, 1), color='blue', label='training score')\n",
    "plt.plot(n_n, np.median(val_score, 1), color='red', label='validation score')\n",
    "plt.legend(loc='lower center')\n",
    "plt.ylim(0.7, 1)\n",
    "plt.xlabel('number of neighbours')\n",
    "plt.ylabel('score')"
   ]
  },
  {
   "cell_type": "markdown",
   "metadata": {
    "id": "IfTWA_1tQ5vR"
   },
   "source": [
    "We can notice that 19 is the number of neighbours where the validation curve reaches its peak."
   ]
  },
  {
   "cell_type": "code",
   "execution_count": null,
   "metadata": {
    "colab": {
     "base_uri": "https://localhost:8080/"
    },
    "id": "8dVNmRawPtHV",
    "outputId": "2d312019-7a49-4007-caee-bcfbb9152753"
   },
   "outputs": [
    {
     "data": {
      "text/plain": [
       "0.7379162191192267"
      ]
     },
     "execution_count": 88,
     "metadata": {},
     "output_type": "execute_result"
    }
   ],
   "source": [
    "knn = KNeighborsClassifier(n_neighbors = 19)\n",
    "knn.fit(X_train, y_train)\n",
    "sc = knn.score(X_test,y_test)\n",
    "update_results('KNN',sc)\n",
    "sc"
   ]
  },
  {
   "cell_type": "markdown",
   "metadata": {
    "id": "FGLGDGBfJxD-"
   },
   "source": [
    "Try to normalize data then apply KNN."
   ]
  },
  {
   "cell_type": "code",
   "execution_count": null,
   "metadata": {
    "colab": {
     "base_uri": "https://localhost:8080/",
     "height": 301
    },
    "id": "yp3JYyeSKBMB",
    "outputId": "297145e8-c82e-46db-f516-3f3ce30b781b"
   },
   "outputs": [
    {
     "data": {
      "text/plain": [
       "Text(0, 0.5, 'score')"
      ]
     },
     "execution_count": 89,
     "metadata": {},
     "output_type": "execute_result"
    },
    {
     "data": {
      "image/png": "[encoded data removed]",
      "text/plain": [
       "<Figure size 432x288 with 1 Axes>"
      ]
     },
     "metadata": {
      "needs_background": "light"
     },
     "output_type": "display_data"
    }
   ],
   "source": [
    "from sklearn.neighbors import KNeighborsClassifier\n",
    "from sklearn.model_selection import validation_curve\n",
    "import matplotlib.pyplot as plt\n",
    "\n",
    "X_train_norm,X_test_norm = Normalize(X_train,X_test)\n",
    "\n",
    "knn = KNeighborsClassifier()\n",
    "\n",
    "n_n = np.arange(25)\n",
    "train_score, val_score = validation_curve(knn, X_train_norm, y_train,\n",
    "                                            param_name= 'n_neighbors',\n",
    "                                            param_range =n_n,\n",
    "                                            cv=5)\n",
    "\n",
    "plt.plot(n_n, np.median(train_score, 1), color='blue', label='training score')\n",
    "plt.plot(n_n, np.median(val_score, 1), color='red', label='validation score')\n",
    "plt.legend(loc='lower center')\n",
    "plt.ylim(0.7, 1)\n",
    "plt.xlabel('number of neighbours')\n",
    "plt.ylabel('score')"
   ]
  },
  {
   "cell_type": "markdown",
   "metadata": {
    "id": "GforHcWjL0N3"
   },
   "source": [
    "We can notice that 11 is the number of neighbours where the validation curve reaches its peak."
   ]
  },
  {
   "cell_type": "code",
   "execution_count": null,
   "metadata": {
    "colab": {
     "base_uri": "https://localhost:8080/"
    },
    "id": "MyQ-6_9mKQvG",
    "outputId": "1572c8a7-bb05-4898-9f5d-66b1377cf36f"
   },
   "outputs": [
    {
     "data": {
      "text/plain": [
       "0.8012889366272825"
      ]
     },
     "execution_count": 90,
     "metadata": {},
     "output_type": "execute_result"
    }
   ],
   "source": [
    "knn = KNeighborsClassifier(n_neighbors =11)\n",
    "knn.fit(X_train_norm, y_train)\n",
    "sc = knn.score(X_test_norm,y_test)\n",
    "update_results('KNN',sc,normalized = True)\n",
    "sc"
   ]
  },
  {
   "cell_type": "markdown",
   "metadata": {
    "id": "cDDbcAkcRst3"
   },
   "source": [
    "trying to use Normalized feature engineer data to fit KNN."
   ]
  },
  {
   "cell_type": "code",
   "execution_count": null,
   "metadata": {
    "colab": {
     "base_uri": "https://localhost:8080/",
     "height": 301
    },
    "id": "6F_jrr_1R2rB",
    "outputId": "af171d3e-d4c3-486d-c312-15d7525bbc99"
   },
   "outputs": [
    {
     "data": {
      "text/plain": [
       "Text(0, 0.5, 'score')"
      ]
     },
     "execution_count": 91,
     "metadata": {},
     "output_type": "execute_result"
    },
    {
     "data": {
      "image/png": "[encoded data removed]",
      "text/plain": [
       "<Figure size 432x288 with 1 Axes>"
      ]
     },
     "metadata": {
      "needs_background": "light"
     },
     "output_type": "display_data"
    }
   ],
   "source": [
    "from sklearn.neighbors import KNeighborsClassifier\n",
    "from sklearn.model_selection import validation_curve\n",
    "import matplotlib.pyplot as plt\n",
    "\n",
    "X_train_eng,X_test_eng = Feature_Engineering_Data(X_train,X_test)\n",
    "X_train_eng,X_test_eng = Normalize(X_train_eng,X_test_eng)\n",
    "\n",
    "knn = KNeighborsClassifier()\n",
    "\n",
    "n_n = np.arange(25)\n",
    "train_score, val_score = validation_curve(knn, X_train_eng, y_train,\n",
    "                                            param_name= 'n_neighbors',\n",
    "                                            param_range =n_n,\n",
    "                                            cv=5)\n",
    "\n",
    "plt.plot(n_n, np.median(train_score, 1), color='blue', label='training score')\n",
    "plt.plot(n_n, np.median(val_score, 1), color='red', label='validation score')\n",
    "plt.legend(loc='lower center')\n",
    "plt.ylim(0.7, 1)\n",
    "plt.xlabel('number of neighbours')\n",
    "plt.ylabel('score')"
   ]
  },
  {
   "cell_type": "markdown",
   "metadata": {
    "id": "mIRqUZoeSOcd"
   },
   "source": [
    "We can notice that 10 is the number of neighbours where the validation curve reaches its peak."
   ]
  },
  {
   "cell_type": "code",
   "execution_count": null,
   "metadata": {
    "colab": {
     "base_uri": "https://localhost:8080/"
    },
    "id": "dc6CmBfqSVvS",
    "outputId": "1e708568-b6d0-4a9d-8efb-eaf658b0a61a"
   },
   "outputs": [
    {
     "data": {
      "text/plain": [
       "0.8055853920515574"
      ]
     },
     "execution_count": 92,
     "metadata": {},
     "output_type": "execute_result"
    }
   ],
   "source": [
    "knn = KNeighborsClassifier(n_neighbors =10)\n",
    "knn.fit(X_train_eng, y_train)\n",
    "sc = knn.score(X_test_eng,y_test)\n",
    "update_results('KNN',sc,data=\"Feature Engineering Data\",normalized = True)\n",
    "sc"
   ]
  },
  {
   "cell_type": "markdown",
   "metadata": {
    "id": "P6XJjm8STydX"
   },
   "source": [
    "trying to use normalized PCA Data to fit KNN."
   ]
  },
  {
   "cell_type": "code",
   "execution_count": null,
   "metadata": {
    "colab": {
     "base_uri": "https://localhost:8080/",
     "height": 301
    },
    "id": "aXTcm0YyT7XR",
    "outputId": "7eae605c-b400-4798-9a99-d115472d8627"
   },
   "outputs": [
    {
     "data": {
      "text/plain": [
       "Text(0, 0.5, 'score')"
      ]
     },
     "execution_count": 93,
     "metadata": {},
     "output_type": "execute_result"
    },
    {
     "data": {
      "image/png": "[encoded data removed]",
      "text/plain": [
       "<Figure size 432x288 with 1 Axes>"
      ]
     },
     "metadata": {
      "needs_background": "light"
     },
     "output_type": "display_data"
    }
   ],
   "source": [
    "from sklearn.neighbors import KNeighborsClassifier\n",
    "from sklearn.model_selection import validation_curve\n",
    "import matplotlib.pyplot as plt\n",
    "\n",
    "X_train_pca,X_test_pca = PCA_Data(X_train,X_test)\n",
    "X_train_pca,X_test_pca = Normalize(X_train_pca,X_test_pca)\n",
    "\n",
    "knn = KNeighborsClassifier()\n",
    "\n",
    "n_n = np.arange(25)\n",
    "train_score, val_score = validation_curve(knn, X_train_pca, y_train,\n",
    "                                            param_name= 'n_neighbors',\n",
    "                                            param_range =n_n,\n",
    "                                            cv=5)\n",
    "\n",
    "plt.plot(n_n, np.median(train_score, 1), color='blue', label='training score')\n",
    "plt.plot(n_n, np.median(val_score, 1), color='red', label='validation score')\n",
    "plt.legend(loc='lower center')\n",
    "plt.ylim(0.7, 1)\n",
    "plt.xlabel('number of neighbours')\n",
    "plt.ylabel('score')"
   ]
  },
  {
   "cell_type": "markdown",
   "metadata": {
    "id": "wtt6YzM9UPc6"
   },
   "source": [
    "We can notice that 9 is the number of neighbours where the validation curve reaches its peak."
   ]
  },
  {
   "cell_type": "code",
   "execution_count": null,
   "metadata": {
    "colab": {
     "base_uri": "https://localhost:8080/"
    },
    "id": "j5AQfKBGUPrx",
    "outputId": "64bb1486-bc3f-4683-9299-b011e245df6d"
   },
   "outputs": [
    {
     "data": {
      "text/plain": [
       "0.7712137486573577"
      ]
     },
     "execution_count": 94,
     "metadata": {},
     "output_type": "execute_result"
    }
   ],
   "source": [
    "knn = KNeighborsClassifier(n_neighbors =9)\n",
    "knn.fit(X_train_pca, y_train)\n",
    "sc = knn.score(X_test_pca,y_test)\n",
    "update_results('KNN',sc,data=\"PCA Data\",normalized = True)\n",
    "sc"
   ]
  },
  {
   "cell_type": "markdown",
   "metadata": {
    "id": "t22YlJFcUxx6"
   },
   "source": [
    "* SVM"
   ]
  },
  {
   "cell_type": "code",
   "execution_count": null,
   "metadata": {
    "colab": {
     "base_uri": "https://localhost:8080/"
    },
    "id": "7biKGMxaXfHB",
    "outputId": "6b3b5d15-4601-4b1a-b65a-7b0250ab0f49"
   },
   "outputs": [
    {
     "data": {
      "text/plain": [
       "GridSearchCV(cv=5, estimator=SVC(),\n",
       "             param_grid=[{'C': [0.1, 1, 10, 100], 'kernel': ['linear']},\n",
       "                         {'C': [0.1, 1, 10, 100], 'coef0': [0.1, 1, 10],\n",
       "                          'degree': [2, 3, 4, 6], 'kernel': ['poly']},\n",
       "                         {'C': [0.1, 1, 10, 100],\n",
       "                          'gamma': [1, 0.1, 0.01, 0.001], 'kernel': ['rbf']}])"
      ]
     },
     "execution_count": 95,
     "metadata": {},
     "output_type": "execute_result"
    }
   ],
   "source": [
    "from sklearn.svm import SVC\n",
    "from sklearn.model_selection import GridSearchCV\n",
    "\n",
    "svm = SVC()\n",
    "\n",
    "param_grid = [\n",
    "              {'kernel': ['linear'],'C': [0.1,1, 10, 100]},\n",
    "              {'kernel': ['poly'] ,'C': [0.1,1, 10, 100],'degree': [2,3,4,6],'coef0': [0.1,1, 10]},\n",
    "              {'kernel': ['rbf'] ,'C': [0.1,1, 10, 100],'gamma': [1,0.1,0.01,0.001]},\n",
    "]\n",
    "\n",
    "grid = GridSearchCV(svm, param_grid, cv=5)\n",
    "grid.fit(X_train, y_train)"
   ]
  },
  {
   "cell_type": "code",
   "execution_count": null,
   "metadata": {
    "colab": {
     "base_uri": "https://localhost:8080/"
    },
    "id": "Db7vaHob8gHN",
    "outputId": "1e07168b-894c-4698-c315-bf84419129d6"
   },
   "outputs": [
    {
     "data": {
      "text/plain": [
       "{'C': 10, 'gamma': 0.1, 'kernel': 'rbf'}"
      ]
     },
     "execution_count": 96,
     "metadata": {},
     "output_type": "execute_result"
    }
   ],
   "source": [
    "grid.best_params_"
   ]
  },
  {
   "cell_type": "code",
   "execution_count": null,
   "metadata": {
    "colab": {
     "base_uri": "https://localhost:8080/"
    },
    "id": "SmJ4jL4Y8oDh",
    "outputId": "ba7ddf94-7b6f-46f4-ee76-6a45c464aef9"
   },
   "outputs": [
    {
     "data": {
      "text/plain": [
       "0.8141783029001074"
      ]
     },
     "execution_count": 97,
     "metadata": {},
     "output_type": "execute_result"
    }
   ],
   "source": [
    "svm_best = grid.best_estimator_\n",
    "svm_best.fit(X_train, y_train)\n",
    "sc = svm_best.score(X_test,y_test)\n",
    "update_results('SVM',sc)\n",
    "sc"
   ]
  },
  {
   "cell_type": "markdown",
   "metadata": {
    "id": "CN45yLYCB7y9"
   },
   "source": [
    "SVM is sensitive to the scale of the features.Here we try to normalize then train SVM Model."
   ]
  },
  {
   "cell_type": "code",
   "execution_count": null,
   "metadata": {
    "colab": {
     "base_uri": "https://localhost:8080/"
    },
    "id": "bbYSrbMoB7gl",
    "outputId": "8524ec74-b08d-4a58-ac53-00d5df9ef419"
   },
   "outputs": [
    {
     "data": {
      "text/plain": [
       "{'C': 100, 'coef0': 0.1, 'degree': 3, 'kernel': 'poly'}"
      ]
     },
     "execution_count": 98,
     "metadata": {},
     "output_type": "execute_result"
    }
   ],
   "source": [
    "from sklearn.svm import SVC\n",
    "from sklearn.model_selection import GridSearchCV\n",
    "\n",
    "X_train_norm,X_test_norm = Normalize(X_train,X_test)\n",
    "svm = SVC()\n",
    "\n",
    "param_grid = [\n",
    "              {'kernel': ['linear'],'C': [0.1,1, 10, 100]},\n",
    "              {'kernel': ['poly'] ,'C': [0.1,1, 10, 100],'degree': [2,3],'coef0': [0.1,0.5]},\n",
    "              {'kernel': ['rbf'] ,'C': [0.1,1, 10, 100],'gamma': [1,0.1,0.01,0.001]},\n",
    "]\n",
    "\n",
    "grid = GridSearchCV(svm, param_grid, cv=5)\n",
    "grid.fit(X_train_norm, y_train)\n",
    "grid.best_params_"
   ]
  },
  {
   "cell_type": "code",
   "execution_count": null,
   "metadata": {
    "colab": {
     "base_uri": "https://localhost:8080/"
    },
    "id": "nzMwyF-yCXns",
    "outputId": "e18592a6-0525-408c-9027-5bf9b48bb5bf"
   },
   "outputs": [
    {
     "data": {
      "text/plain": [
       "0.841031149301826"
      ]
     },
     "execution_count": 99,
     "metadata": {},
     "output_type": "execute_result"
    }
   ],
   "source": [
    "svm_best = grid.best_estimator_\n",
    "svm_best.fit(X_train_norm, y_train)\n",
    "sc = svm_best.score(X_test_norm,y_test)\n",
    "update_results('SVM',sc,normalized=True)\n",
    "sc"
   ]
  },
  {
   "cell_type": "markdown",
   "metadata": {
    "id": "Q5ujO7ZhsEOf"
   },
   "source": [
    "* Decision Tree"
   ]
  },
  {
   "cell_type": "code",
   "execution_count": null,
   "metadata": {
    "colab": {
     "base_uri": "https://localhost:8080/",
     "height": 301
    },
    "id": "9_wyKP88sHVg",
    "outputId": "1b88cf4f-0b42-4586-9422-243dab5535a5"
   },
   "outputs": [
    {
     "data": {
      "text/plain": [
       "Text(0, 0.5, 'score')"
      ]
     },
     "execution_count": 100,
     "metadata": {},
     "output_type": "execute_result"
    },
    {
     "data": {
      "image/png": "[encoded data removed]",
      "text/plain": [
       "<Figure size 432x288 with 1 Axes>"
      ]
     },
     "metadata": {
      "needs_background": "light"
     },
     "output_type": "display_data"
    }
   ],
   "source": [
    "from sklearn.tree import DecisionTreeClassifier\n",
    "\n",
    "decisionTree = DecisionTreeClassifier()\n",
    "n_n = np.arange(25)\n",
    "train_score, val_score = validation_curve(decisionTree, X_train, y_train,\n",
    "                                            param_name= 'max_depth',\n",
    "                                            param_range =n_n,\n",
    "                                            cv=5)\n",
    "\n",
    "plt.plot(n_n, np.median(train_score, 1), color='blue', label='training score')\n",
    "plt.plot(n_n, np.median(val_score, 1), color='red', label='validation score')\n",
    "plt.legend(loc='lower center')\n",
    "plt.ylim(0.7, 1)\n",
    "plt.xlabel('max depth')\n",
    "plt.ylabel('score')"
   ]
  },
  {
   "cell_type": "markdown",
   "metadata": {
    "id": "qTRrowCVuVw4"
   },
   "source": [
    "We can notice that 6 is the max depth where the validation curve reaches its peak."
   ]
  },
  {
   "cell_type": "code",
   "execution_count": null,
   "metadata": {
    "colab": {
     "base_uri": "https://localhost:8080/"
    },
    "id": "cvV2msqDuy8H",
    "outputId": "bf4272cf-61d7-441a-a603-babf06cf8801"
   },
   "outputs": [
    {
     "data": {
      "text/plain": [
       "0.8345864661654135"
      ]
     },
     "execution_count": 135,
     "metadata": {},
     "output_type": "execute_result"
    }
   ],
   "source": [
    "decisionTree_best = DecisionTreeClassifier(max_depth = 6)\n",
    "decisionTree_best.fit(X_train,y_train)\n",
    "sc = decisionTree_best.score(X_test,y_test)\n",
    "update_results('Decision Tree',sc)\n",
    "sc"
   ]
  },
  {
   "cell_type": "markdown",
   "metadata": {
    "id": "5AuYqDsuNS9v"
   },
   "source": [
    "* Let's try Decision Tree with Feature Engineered data."
   ]
  },
  {
   "cell_type": "code",
   "execution_count": null,
   "metadata": {
    "colab": {
     "base_uri": "https://localhost:8080/",
     "height": 301
    },
    "id": "deYsXjg0Nv-Q",
    "outputId": "b088007f-661d-4f86-855b-9198c4c9035e"
   },
   "outputs": [
    {
     "data": {
      "text/plain": [
       "Text(0, 0.5, 'score')"
      ]
     },
     "execution_count": 102,
     "metadata": {},
     "output_type": "execute_result"
    },
    {
     "data": {
      "image/png": "[encoded data removed]",
      "text/plain": [
       "<Figure size 432x288 with 1 Axes>"
      ]
     },
     "metadata": {
      "needs_background": "light"
     },
     "output_type": "display_data"
    }
   ],
   "source": [
    "from sklearn.tree import DecisionTreeClassifier\n",
    "\n",
    "X_train_eng,X_test_eng = Feature_Engineering_Data(X_train,X_test)\n",
    "\n",
    "decisionTree = DecisionTreeClassifier()\n",
    "n_n = np.arange(25)\n",
    "train_score, val_score = validation_curve(decisionTree, X_train_eng, y_train,\n",
    "                                            param_name= 'max_depth',\n",
    "                                            param_range =n_n,\n",
    "                                            cv=5)\n",
    "\n",
    "plt.plot(n_n, np.median(train_score, 1), color='blue', label='training score')\n",
    "plt.plot(n_n, np.median(val_score, 1), color='red', label='validation score')\n",
    "plt.legend(loc='lower center')\n",
    "plt.ylim(0.7, 1)\n",
    "plt.xlabel('max depth')\n",
    "plt.ylabel('score')"
   ]
  },
  {
   "cell_type": "markdown",
   "metadata": {
    "id": "HFdQNQJCPGIZ"
   },
   "source": [
    "We can notice that 6 is the max depth where the validation curve reaches its peak."
   ]
  },
  {
   "cell_type": "code",
   "execution_count": null,
   "metadata": {
    "colab": {
     "base_uri": "https://localhost:8080/"
    },
    "id": "-wYI7S-rONQ_",
    "outputId": "86c91dc3-bddf-4e0e-9c94-5d4265ce589d"
   },
   "outputs": [
    {
     "data": {
      "text/plain": [
       "0.807733619763695"
      ]
     },
     "execution_count": 103,
     "metadata": {},
     "output_type": "execute_result"
    }
   ],
   "source": [
    "decisionTree = DecisionTreeClassifier(max_depth = 6)\n",
    "decisionTree.fit(X_train_eng,y_train)\n",
    "sc = decisionTree.score(X_test_eng,y_test)\n",
    "update_results('Decision Tree',sc,data=\"Feature Engineering data\")\n",
    "sc"
   ]
  },
  {
   "cell_type": "markdown",
   "metadata": {
    "id": "2_Yn-3p5OdJH"
   },
   "source": [
    "Let's try Decision Tree with PCA."
   ]
  },
  {
   "cell_type": "code",
   "execution_count": null,
   "metadata": {
    "colab": {
     "base_uri": "https://localhost:8080/",
     "height": 301
    },
    "id": "aBbTRVPaOayf",
    "outputId": "0f05a243-90ee-4482-f2b2-31d5e26e13e8"
   },
   "outputs": [
    {
     "data": {
      "text/plain": [
       "Text(0, 0.5, 'score')"
      ]
     },
     "execution_count": 104,
     "metadata": {},
     "output_type": "execute_result"
    },
    {
     "data": {
      "image/png": "[encoded data removed]",
      "text/plain": [
       "<Figure size 432x288 with 1 Axes>"
      ]
     },
     "metadata": {
      "needs_background": "light"
     },
     "output_type": "display_data"
    }
   ],
   "source": [
    "from sklearn.tree import DecisionTreeClassifier\n",
    "\n",
    "X_train_pca,X_test_pca = PCA_Data(X_train,X_test)\n",
    "\n",
    "decisionTree = DecisionTreeClassifier()\n",
    "n_n = np.arange(25)\n",
    "train_score, val_score = validation_curve(decisionTree, X_train_pca, y_train,\n",
    "                                            param_name= 'max_depth',\n",
    "                                            param_range =n_n,\n",
    "                                            cv=5)\n",
    "\n",
    "plt.plot(n_n, np.median(train_score, 1), color='blue', label='training score')\n",
    "plt.plot(n_n, np.median(val_score, 1), color='red', label='validation score')\n",
    "plt.legend(loc='lower center')\n",
    "plt.ylim(0.7, 1)\n",
    "plt.xlabel('max depth')\n",
    "plt.ylabel('score')"
   ]
  },
  {
   "cell_type": "markdown",
   "metadata": {
    "id": "KRZv3W_TPKA_"
   },
   "source": [
    "We can notice that 9 is the max depth where the validation curve reaches its peak."
   ]
  },
  {
   "cell_type": "code",
   "execution_count": null,
   "metadata": {
    "colab": {
     "base_uri": "https://localhost:8080/"
    },
    "id": "dL4Noev4O1CI",
    "outputId": "e14f29af-5c6d-4656-f5a7-41cb4eb12252"
   },
   "outputs": [
    {
     "data": {
      "text/plain": [
       "0.8120300751879699"
      ]
     },
     "execution_count": 105,
     "metadata": {},
     "output_type": "execute_result"
    }
   ],
   "source": [
    "decisionTree = DecisionTreeClassifier(max_depth = 9)\n",
    "decisionTree.fit(X_train_pca,y_train)\n",
    "sc = decisionTree.score(X_test_pca,y_test)\n",
    "update_results('Decision Tree',sc,data=\"PCA data\")\n",
    "sc"
   ]
  },
  {
   "cell_type": "markdown",
   "metadata": {
    "id": "LaP5dmgCxrpR"
   },
   "source": [
    "* Random Forest"
   ]
  },
  {
   "cell_type": "code",
   "execution_count": null,
   "metadata": {
    "colab": {
     "base_uri": "https://localhost:8080/"
    },
    "id": "eBVXayA5x5Zx",
    "outputId": "3235852f-ca00-4957-aac5-fb8e09ac53cf"
   },
   "outputs": [
    {
     "data": {
      "text/plain": [
       "{'max_depth': 9, 'n_estimators': 18}"
      ]
     },
     "execution_count": 106,
     "metadata": {},
     "output_type": "execute_result"
    }
   ],
   "source": [
    "from sklearn.ensemble import RandomForestClassifier\n",
    "\n",
    "random_forest = RandomForestClassifier(n_jobs=-1, random_state=10)\n",
    "\n",
    "param_grid = [\n",
    "              {'n_estimators':np.arange(4,25),'max_depth':np.arange(1,15),}\n",
    "]\n",
    "\n",
    "grid = GridSearchCV(random_forest, param_grid, cv=5)\n",
    "grid.fit(X_train, y_train)\n",
    "grid.best_params_"
   ]
  },
  {
   "cell_type": "code",
   "execution_count": null,
   "metadata": {
    "colab": {
     "base_uri": "https://localhost:8080/"
    },
    "id": "4oCVbL4j1nrp",
    "outputId": "21734c27-3c17-4766-ba23-4d8f2a443cc9"
   },
   "outputs": [
    {
     "data": {
      "text/plain": [
       "0.8431793770139635"
      ]
     },
     "execution_count": 107,
     "metadata": {},
     "output_type": "execute_result"
    }
   ],
   "source": [
    "random_forest_best = grid.best_estimator_\n",
    "random_forest_best.fit(X_train, y_train)\n",
    "sc = random_forest_best.score(X_test,y_test)\n",
    "update_results('Random Forest',sc)\n",
    "sc"
   ]
  },
  {
   "cell_type": "markdown",
   "metadata": {
    "id": "y8yCUFBy5Yaj"
   },
   "source": [
    "* adaboost"
   ]
  },
  {
   "cell_type": "code",
   "execution_count": null,
   "metadata": {
    "colab": {
     "base_uri": "https://localhost:8080/"
    },
    "id": "wDbYRJmg5d8p",
    "outputId": "704ad637-eda3-43ca-8beb-201431a227ed"
   },
   "outputs": [
    {
     "data": {
      "text/plain": [
       "{'base_estimator__max_depth': 3, 'learning_rate': 1, 'n_estimators': 17}"
      ]
     },
     "execution_count": 108,
     "metadata": {},
     "output_type": "execute_result"
    }
   ],
   "source": [
    "from sklearn.ensemble import AdaBoostClassifier\n",
    "\n",
    "adaboost = AdaBoostClassifier(DecisionTreeClassifier(),algorithm=\"SAMME.R\",random_state=42)\n",
    "param_grid = [\n",
    "              {'n_estimators':np.arange(4,25),'base_estimator__max_depth':np.arange(1,15),'learning_rate':[0.5,1]}\n",
    "]\n",
    "\n",
    "grid = GridSearchCV(adaboost, param_grid, cv=5)\n",
    "grid.fit(X_train, y_train)\n",
    "grid.best_params_\n",
    "# adaboost.get_params().keys()"
   ]
  },
  {
   "cell_type": "code",
   "execution_count": null,
   "metadata": {
    "colab": {
     "base_uri": "https://localhost:8080/"
    },
    "id": "UAofU0ZK9j-k",
    "outputId": "d0313ebc-4ba6-4166-d065-4e21586890f9"
   },
   "outputs": [
    {
     "data": {
      "text/plain": [
       "0.8227712137486574"
      ]
     },
     "execution_count": 134,
     "metadata": {},
     "output_type": "execute_result"
    }
   ],
   "source": [
    "adaboost = AdaBoostClassifier(DecisionTreeClassifier(max_depth = 3),algorithm=\"SAMME.R\",random_state=42,learning_rate=1,n_estimators=17)\n",
    "adaboost.fit(X_train, y_train)\n",
    "sc = adaboost.score(X_test,y_test)\n",
    "update_results('Adaboost',sc)\n",
    "sc"
   ]
  },
  {
   "cell_type": "markdown",
   "metadata": {
    "id": "0HBRVN9tVORZ"
   },
   "source": [
    "try to use feature engineering data to fit adaboost"
   ]
  },
  {
   "cell_type": "code",
   "execution_count": null,
   "metadata": {
    "colab": {
     "base_uri": "https://localhost:8080/"
    },
    "id": "f2Y8i9v_VWmj",
    "outputId": "f4c69550-d5c2-49b2-8ef1-8720e126d67a"
   },
   "outputs": [
    {
     "data": {
      "text/plain": [
       "{'base_estimator__max_depth': 5, 'learning_rate': 1, 'n_estimators': 4}"
      ]
     },
     "execution_count": 110,
     "metadata": {},
     "output_type": "execute_result"
    }
   ],
   "source": [
    "from sklearn.ensemble import AdaBoostClassifier\n",
    "\n",
    "X_train_eng,X_test_eng = Feature_Engineering_Data(X_train,X_test)\n",
    "\n",
    "adaboost = AdaBoostClassifier(DecisionTreeClassifier(),algorithm=\"SAMME.R\",random_state=42)\n",
    "param_grid = [\n",
    "              {'n_estimators':np.arange(4,25),'base_estimator__max_depth':np.arange(1,15),'learning_rate':[0.5,1]}\n",
    "]\n",
    "\n",
    "grid = GridSearchCV(adaboost, param_grid, cv=5)\n",
    "grid.fit(X_train_eng, y_train)\n",
    "grid.best_params_"
   ]
  },
  {
   "cell_type": "code",
   "execution_count": null,
   "metadata": {
    "colab": {
     "base_uri": "https://localhost:8080/"
    },
    "id": "rWrY5KXpVZqc",
    "outputId": "454e1ab2-74bb-489c-a097-b8d8306264a4"
   },
   "outputs": [
    {
     "data": {
      "text/plain": [
       "0.8098818474758325"
      ]
     },
     "execution_count": 111,
     "metadata": {},
     "output_type": "execute_result"
    }
   ],
   "source": [
    "adaboost_best = grid.best_estimator_\n",
    "adaboost_best.fit(X_train_eng, y_train)\n",
    "sc = adaboost_best.score(X_test_eng,y_test)\n",
    "update_results('Adaboost',sc,data=\"Feature Engineering Data\")\n",
    "sc"
   ]
  },
  {
   "cell_type": "markdown",
   "metadata": {
    "id": "mfBs0RwJXLaD"
   },
   "source": [
    "try to use PCA Data to fit adaboost"
   ]
  },
  {
   "cell_type": "code",
   "execution_count": null,
   "metadata": {
    "colab": {
     "base_uri": "https://localhost:8080/"
    },
    "id": "fDFYnojNXQmA",
    "outputId": "dfed0674-ac16-4e93-a380-d48ab91e63f1"
   },
   "outputs": [
    {
     "data": {
      "text/plain": [
       "{'base_estimator__max_depth': 3, 'learning_rate': 0.5, 'n_estimators': 25}"
      ]
     },
     "execution_count": 112,
     "metadata": {},
     "output_type": "execute_result"
    }
   ],
   "source": [
    "from sklearn.ensemble import AdaBoostClassifier\n",
    "\n",
    "X_train_pca,X_test_pca = PCA_Data(X_train,X_test)\n",
    "\n",
    "adaboost = AdaBoostClassifier(DecisionTreeClassifier(),algorithm=\"SAMME.R\",random_state=42)\n",
    "param_grid = [\n",
    "              {'n_estimators':np.arange(20,32),'base_estimator__max_depth':np.arange(1,15),'learning_rate':[0.5,1]}\n",
    "]\n",
    "\n",
    "grid = GridSearchCV(adaboost, param_grid, cv=5)\n",
    "grid.fit(X_train_pca, y_train)\n",
    "grid.best_params_"
   ]
  },
  {
   "cell_type": "code",
   "execution_count": null,
   "metadata": {
    "colab": {
     "base_uri": "https://localhost:8080/"
    },
    "id": "cGqwOBh_XS3z",
    "outputId": "80e7169c-10d5-4c21-e89e-2a988bbc5bed"
   },
   "outputs": [
    {
     "data": {
      "text/plain": [
       "0.8109559613319012"
      ]
     },
     "execution_count": 113,
     "metadata": {},
     "output_type": "execute_result"
    }
   ],
   "source": [
    "adaboost_best = grid.best_estimator_\n",
    "adaboost_best.fit(X_train_pca, y_train)\n",
    "sc = adaboost_best.score(X_test_pca,y_test)\n",
    "update_results('Adaboost',sc,data=\"PCA Data\")\n",
    "sc"
   ]
  },
  {
   "cell_type": "markdown",
   "metadata": {
    "id": "MyqdnZomCS-k"
   },
   "source": [
    "* Soft Voting Model"
   ]
  },
  {
   "cell_type": "code",
   "execution_count": null,
   "metadata": {
    "colab": {
     "base_uri": "https://localhost:8080/"
    },
    "id": "9auN70lICWw1",
    "outputId": "33317a4a-7730-4485-937e-eaf47840fed6"
   },
   "outputs": [
    {
     "data": {
      "text/plain": [
       "0.8539205155746509"
      ]
     },
     "execution_count": 138,
     "metadata": {},
     "output_type": "execute_result"
    }
   ],
   "source": [
    "from pandas.core.common import random_state\n",
    "from sklearn.ensemble import VotingClassifier\n",
    "\n",
    "voting_clf = VotingClassifier(\n",
    "    estimators=[('random forest', random_forest_best), ('dt', decisionTree_best), ('adaboost', adaboost) ],\n",
    "    voting='soft')\n",
    "voting_clf.fit(X_train, y_train)\n",
    "sc = voting_clf.score(X_test,y_test)\n",
    "update_results('Soft Voting (best 3 models)',sc)\n",
    "sc"
   ]
  },
  {
   "cell_type": "markdown",
   "metadata": {
    "id": "abnD4wBJuyEH"
   },
   "source": [
    "* Hard Voting Model"
   ]
  },
  {
   "cell_type": "code",
   "execution_count": null,
   "metadata": {
    "colab": {
     "base_uri": "https://localhost:8080/"
    },
    "id": "12PBE6pF95-7",
    "outputId": "f7bc0475-a981-4e3c-ea2e-4680312755a9"
   },
   "outputs": [
    {
     "data": {
      "text/plain": [
       "0.8431793770139635"
      ]
     },
     "execution_count": 139,
     "metadata": {},
     "output_type": "execute_result"
    }
   ],
   "source": [
    "hard_voting = VotingClassifier(\n",
    "    estimators=[('random forest', random_forest_best), ('dt', decisionTree_best), ('adaboost', adaboost) ],\n",
    "    voting='hard')\n",
    "hard_voting.fit(X_train, y_train)\n",
    "sc = hard_voting.score(X_test,y_test)\n",
    "update_results('Hard Voting (best 3 models)',sc)\n",
    "sc"
   ]
  },
  {
   "cell_type": "code",
   "execution_count": null,
   "metadata": {
    "colab": {
     "base_uri": "https://localhost:8080/",
     "height": 614
    },
    "id": "48StIO3kuWJ-",
    "outputId": "67d0ed33-b9b9-4e60-87f1-86fb1eb62198"
   },
   "outputs": [
    {
     "data": {
      "text/html": [
       "\n",
       "  <div id=\"df-77ec6f0e-ebb9-4ead-a088-67d01c8f4a17\">\n",
       "    <div class=\"colab-df-container\">\n",
       "      <div>\n",
       "<style scoped>\n",
       "    .dataframe tbody tr th:only-of-type {\n",
       "        vertical-align: middle;\n",
       "    }\n",
       "\n",
       "    .dataframe tbody tr th {\n",
       "        vertical-align: top;\n",
       "    }\n",
       "\n",
       "    .dataframe thead th {\n",
       "        text-align: right;\n",
       "    }\n",
       "</style>\n",
       "<table border=\"1\" class=\"dataframe\">\n",
       "  <thead>\n",
       "    <tr style=\"text-align: right;\">\n",
       "      <th></th>\n",
       "      <th>Model</th>\n",
       "      <th>Data</th>\n",
       "      <th>Normalized</th>\n",
       "      <th>accuracy</th>\n",
       "    </tr>\n",
       "  </thead>\n",
       "  <tbody>\n",
       "    <tr>\n",
       "      <th>0</th>\n",
       "      <td>dummy classifier - Baseline model</td>\n",
       "      <td>Original data</td>\n",
       "      <td>False</td>\n",
       "      <td>0.664876</td>\n",
       "    </tr>\n",
       "    <tr>\n",
       "      <th>1</th>\n",
       "      <td>LogisticRegression</td>\n",
       "      <td>Original data</td>\n",
       "      <td>False</td>\n",
       "      <td>0.711063</td>\n",
       "    </tr>\n",
       "    <tr>\n",
       "      <th>2</th>\n",
       "      <td>Naive Bayes</td>\n",
       "      <td>Original data</td>\n",
       "      <td>False</td>\n",
       "      <td>0.689581</td>\n",
       "    </tr>\n",
       "    <tr>\n",
       "      <th>3</th>\n",
       "      <td>KNN</td>\n",
       "      <td>Original data</td>\n",
       "      <td>False</td>\n",
       "      <td>0.737916</td>\n",
       "    </tr>\n",
       "    <tr>\n",
       "      <th>4</th>\n",
       "      <td>KNN</td>\n",
       "      <td>Original data</td>\n",
       "      <td>True</td>\n",
       "      <td>0.801289</td>\n",
       "    </tr>\n",
       "    <tr>\n",
       "      <th>5</th>\n",
       "      <td>KNN</td>\n",
       "      <td>Feature Engineering Data</td>\n",
       "      <td>True</td>\n",
       "      <td>0.805585</td>\n",
       "    </tr>\n",
       "    <tr>\n",
       "      <th>6</th>\n",
       "      <td>KNN</td>\n",
       "      <td>PCA Data</td>\n",
       "      <td>True</td>\n",
       "      <td>0.771214</td>\n",
       "    </tr>\n",
       "    <tr>\n",
       "      <th>7</th>\n",
       "      <td>SVM</td>\n",
       "      <td>Original data</td>\n",
       "      <td>False</td>\n",
       "      <td>0.814178</td>\n",
       "    </tr>\n",
       "    <tr>\n",
       "      <th>8</th>\n",
       "      <td>SVM</td>\n",
       "      <td>Original data</td>\n",
       "      <td>True</td>\n",
       "      <td>0.841031</td>\n",
       "    </tr>\n",
       "    <tr>\n",
       "      <th>9</th>\n",
       "      <td>Decision Tree</td>\n",
       "      <td>Original data</td>\n",
       "      <td>False</td>\n",
       "      <td>0.834586</td>\n",
       "    </tr>\n",
       "    <tr>\n",
       "      <th>10</th>\n",
       "      <td>Decision Tree</td>\n",
       "      <td>Feature Engineering data</td>\n",
       "      <td>False</td>\n",
       "      <td>0.807734</td>\n",
       "    </tr>\n",
       "    <tr>\n",
       "      <th>11</th>\n",
       "      <td>Decision Tree</td>\n",
       "      <td>PCA data</td>\n",
       "      <td>False</td>\n",
       "      <td>0.812030</td>\n",
       "    </tr>\n",
       "    <tr>\n",
       "      <th>12</th>\n",
       "      <td>Random Forest</td>\n",
       "      <td>Original data</td>\n",
       "      <td>False</td>\n",
       "      <td>0.843179</td>\n",
       "    </tr>\n",
       "    <tr>\n",
       "      <th>13</th>\n",
       "      <td>Adaboost</td>\n",
       "      <td>Original data</td>\n",
       "      <td>False</td>\n",
       "      <td>0.822771</td>\n",
       "    </tr>\n",
       "    <tr>\n",
       "      <th>14</th>\n",
       "      <td>Adaboost</td>\n",
       "      <td>Feature Engineering Data</td>\n",
       "      <td>False</td>\n",
       "      <td>0.809882</td>\n",
       "    </tr>\n",
       "    <tr>\n",
       "      <th>15</th>\n",
       "      <td>Adaboost</td>\n",
       "      <td>PCA Data</td>\n",
       "      <td>False</td>\n",
       "      <td>0.810956</td>\n",
       "    </tr>\n",
       "    <tr>\n",
       "      <th>16</th>\n",
       "      <td>Soft Voting (best 3 models)</td>\n",
       "      <td>Original data</td>\n",
       "      <td>False</td>\n",
       "      <td>0.853921</td>\n",
       "    </tr>\n",
       "    <tr>\n",
       "      <th>17</th>\n",
       "      <td>Hard Voting (best 3 models)</td>\n",
       "      <td>Original data</td>\n",
       "      <td>False</td>\n",
       "      <td>0.843179</td>\n",
       "    </tr>\n",
       "  </tbody>\n",
       "</table>\n",
       "</div>\n",
       "      <button class=\"colab-df-convert\" onclick=\"convertToInteractive('df-77ec6f0e-ebb9-4ead-a088-67d01c8f4a17')\"\n",
       "              title=\"Convert this dataframe to an interactive table.\"\n",
       "              style=\"display:none;\">\n",
       "        \n",
       "  <svg xmlns=\"http://www.w3.org/2000/svg\" height=\"24px\"viewBox=\"0 0 24 24\"\n",
       "       width=\"24px\">\n",
       "    <path d=\"M0 0h24v24H0V0z\" fill=\"none\"/>\n",
       "    <path d=\"M18.56 5.44l.94 2.06.94-2.06 2.06-.94-2.06-.94-.94-2.06-.94 2.06-2.06.94zm-11 1L8.5 8.5l.94-2.06 2.06-.94-2.06-.94L8.5 2.5l-.94 2.06-2.06.94zm10 10l.94 2.06.94-2.06 2.06-.94-2.06-.94-.94-2.06-.94 2.06-2.06.94z\"/><path d=\"M17.41 7.96l-1.37-1.37c-.4-.4-.92-.59-1.43-.59-.52 0-1.04.2-1.43.59L10.3 9.45l-7.72 7.72c-.78.78-.78 2.05 0 2.83L4 21.41c.39.39.9.59 1.41.59.51 0 1.02-.2 1.41-.59l7.78-7.78 2.81-2.81c.8-.78.8-2.07 0-2.86zM5.41 20L4 18.59l7.72-7.72 1.47 1.35L5.41 20z\"/>\n",
       "  </svg>\n",
       "      </button>\n",
       "      \n",
       "  <style>\n",
       "    .colab-df-container {\n",
       "      display:flex;\n",
       "      flex-wrap:wrap;\n",
       "      gap: 12px;\n",
       "    }\n",
       "\n",
       "    .colab-df-convert {\n",
       "      background-color: #E8F0FE;\n",
       "      border: none;\n",
       "      border-radius: 50%;\n",
       "      cursor: pointer;\n",
       "      display: none;\n",
       "      fill: #1967D2;\n",
       "      height: 32px;\n",
       "      padding: 0 0 0 0;\n",
       "      width: 32px;\n",
       "    }\n",
       "\n",
       "    .colab-df-convert:hover {\n",
       "      background-color: #E2EBFA;\n",
       "      box-shadow: 0px 1px 2px rgba(60, 64, 67, 0.3), 0px 1px 3px 1px rgba(60, 64, 67, 0.15);\n",
       "      fill: #174EA6;\n",
       "    }\n",
       "\n",
       "    [theme=dark] .colab-df-convert {\n",
       "      background-color: #3B4455;\n",
       "      fill: #D2E3FC;\n",
       "    }\n",
       "\n",
       "    [theme=dark] .colab-df-convert:hover {\n",
       "      background-color: #434B5C;\n",
       "      box-shadow: 0px 1px 3px 1px rgba(0, 0, 0, 0.15);\n",
       "      filter: drop-shadow(0px 1px 2px rgba(0, 0, 0, 0.3));\n",
       "      fill: #FFFFFF;\n",
       "    }\n",
       "  </style>\n",
       "\n",
       "      <script>\n",
       "        const buttonEl =\n",
       "          document.querySelector('#df-77ec6f0e-ebb9-4ead-a088-67d01c8f4a17 button.colab-df-convert');\n",
       "        buttonEl.style.display =\n",
       "          google.colab.kernel.accessAllowed ? 'block' : 'none';\n",
       "\n",
       "        async function convertToInteractive(key) {\n",
       "          const element = document.querySelector('#df-77ec6f0e-ebb9-4ead-a088-67d01c8f4a17');\n",
       "          const dataTable =\n",
       "            await google.colab.kernel.invokeFunction('convertToInteractive',\n",
       "                                                     [key], {});\n",
       "          if (!dataTable) return;\n",
       "\n",
       "          const docLinkHtml = 'Like what you see? Visit the ' +\n",
       "            '<a target=\"_blank\" href=https://colab.research.google.com/notebooks/data_table.ipynb>data table notebook</a>'\n",
       "            + ' to learn more about interactive tables.';\n",
       "          element.innerHTML = '';\n",
       "          dataTable['output_type'] = 'display_data';\n",
       "          await google.colab.output.renderOutput(dataTable, element);\n",
       "          const docLink = document.createElement('div');\n",
       "          docLink.innerHTML = docLinkHtml;\n",
       "          element.appendChild(docLink);\n",
       "        }\n",
       "      </script>\n",
       "    </div>\n",
       "  </div>\n",
       "  "
      ],
      "text/plain": [
       "                                Model                      Data  Normalized  \\\n",
       "0   dummy classifier - Baseline model             Original data       False   \n",
       "1                  LogisticRegression             Original data       False   \n",
       "2                         Naive Bayes             Original data       False   \n",
       "3                                 KNN             Original data       False   \n",
       "4                                 KNN             Original data        True   \n",
       "5                                 KNN  Feature Engineering Data        True   \n",
       "6                                 KNN                  PCA Data        True   \n",
       "7                                 SVM             Original data       False   \n",
       "8                                 SVM             Original data        True   \n",
       "9                       Decision Tree             Original data       False   \n",
       "10                      Decision Tree  Feature Engineering data       False   \n",
       "11                      Decision Tree                  PCA data       False   \n",
       "12                      Random Forest             Original data       False   \n",
       "13                           Adaboost             Original data       False   \n",
       "14                           Adaboost  Feature Engineering Data       False   \n",
       "15                           Adaboost                  PCA Data       False   \n",
       "16        Soft Voting (best 3 models)             Original data       False   \n",
       "17        Hard Voting (best 3 models)             Original data       False   \n",
       "\n",
       "    accuracy  \n",
       "0   0.664876  \n",
       "1   0.711063  \n",
       "2   0.689581  \n",
       "3   0.737916  \n",
       "4   0.801289  \n",
       "5   0.805585  \n",
       "6   0.771214  \n",
       "7   0.814178  \n",
       "8   0.841031  \n",
       "9   0.834586  \n",
       "10  0.807734  \n",
       "11  0.812030  \n",
       "12  0.843179  \n",
       "13  0.822771  \n",
       "14  0.809882  \n",
       "15  0.810956  \n",
       "16  0.853921  \n",
       "17  0.843179  "
      ]
     },
     "execution_count": 140,
     "metadata": {},
     "output_type": "execute_result"
    }
   ],
   "source": [
    "df = pd.DataFrame(results)\n",
    "df"
   ]
  },
  {
   "cell_type": "code",
   "execution_count": null,
   "metadata": {
    "colab": {
     "base_uri": "https://localhost:8080/"
    },
    "id": "5U2RoW2DCcc7",
    "outputId": "05f84152-2cab-44c1-bb58-ac26a48d8933"
   },
   "outputs": [
    {
     "data": {
      "text/plain": [
       "{'max_depth': 7, 'n_estimators': 7}"
      ]
     },
     "execution_count": 17,
     "metadata": {},
     "output_type": "execute_result"
    }
   ],
   "source": [
    "from sklearn.ensemble import RandomForestClassifier\n",
    "from sklearn.model_selection import GridSearchCV\n",
    "\n",
    "X_train_eng,X_test_eng = Feature_Engineering_Data(X_train,X_test)\n",
    "\n",
    "random_forest = RandomForestClassifier(n_jobs=-1, random_state=10)\n",
    "\n",
    "param_grid = [\n",
    "              {'n_estimators':np.arange(4,25),'max_depth':np.arange(1,15),}\n",
    "]\n",
    "\n",
    "grid = GridSearchCV(random_forest, param_grid, cv=5)\n",
    "grid.fit(X_train_eng, y_train)\n",
    "grid.best_params_"
   ]
  },
  {
   "cell_type": "code",
   "execution_count": null,
   "metadata": {
    "colab": {
     "base_uri": "https://localhost:8080/"
    },
    "id": "-pnqVdPWC26a",
    "outputId": "d6e8e291-59e2-4e2a-b362-90d3de3d0ac3"
   },
   "outputs": [
    {
     "data": {
      "text/plain": [
       "0.7948442534908701"
      ]
     },
     "execution_count": 18,
     "metadata": {},
     "output_type": "execute_result"
    }
   ],
   "source": [
    "random_forest_best = grid.best_estimator_\n",
    "random_forest_best.fit(X_train_eng, y_train)\n",
    "sc = random_forest_best.score(X_test_eng,y_test)\n",
    "#update_results('Random Forest',sc)\n",
    "sc"
   ]
  },
  {
   "cell_type": "code",
   "execution_count": null,
   "metadata": {
    "colab": {
     "base_uri": "https://localhost:8080/"
    },
    "id": "9aleQ7JHDQfS",
    "outputId": "971ad021-a8d9-427a-8a5e-a62868223990"
   },
   "outputs": [
    {
     "data": {
      "text/plain": [
       "{'max_depth': 11, 'n_estimators': 23}"
      ]
     },
     "execution_count": 19,
     "metadata": {},
     "output_type": "execute_result"
    }
   ],
   "source": [
    "\n",
    "X_train_pca,X_test_pca = PCA_Data(X_train,X_test)\n",
    "\n",
    "random_forest = RandomForestClassifier(n_jobs=-1, random_state=10)\n",
    "\n",
    "param_grid = [\n",
    "              {'n_estimators':np.arange(4,25),'max_depth':np.arange(1,15),}\n",
    "]\n",
    "\n",
    "grid = GridSearchCV(random_forest, param_grid, cv=5)\n",
    "grid.fit(X_train_pca, y_train)\n",
    "grid.best_params_"
   ]
  },
  {
   "cell_type": "code",
   "execution_count": null,
   "metadata": {
    "colab": {
     "base_uri": "https://localhost:8080/"
    },
    "id": "Z-WKGUsLET2e",
    "outputId": "8a627114-63c6-427f-a729-831b45f163bf"
   },
   "outputs": [
    {
     "data": {
      "text/plain": [
       "0.8216970998925887"
      ]
     },
     "execution_count": 20,
     "metadata": {},
     "output_type": "execute_result"
    }
   ],
   "source": [
    "random_forest_best = grid.best_estimator_\n",
    "random_forest_best.fit(X_train_pca, y_train)\n",
    "sc = random_forest_best.score(X_test_pca,y_test)\n",
    "#update_results('Random Forest',sc)\n",
    "sc"
   ]
  }
 ],
 "metadata": {
  "colab": {
   "collapsed_sections": [],
   "name": "Machine Learning Project.ipynb",
   "provenance": []
  },
  "kernelspec": {
   "display_name": "Python 3",
   "language": "python",
   "name": "python3"
  },
  "language_info": {
   "codemirror_mode": {
    "name": "ipython",
    "version": 3
   },
   "file_extension": ".py",
   "mimetype": "text/x-python",
   "name": "python",
   "nbconvert_exporter": "python",
   "pygments_lexer": "ipython3",
   "version": "3.8.8"
  }
 },
 "nbformat": 4,
 "nbformat_minor": 1
}
